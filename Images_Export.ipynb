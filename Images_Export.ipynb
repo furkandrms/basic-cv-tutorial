{
 "cells": [
  {
   "cell_type": "code",
   "execution_count": 1,
   "metadata": {},
   "outputs": [],
   "source": [
    "# Kütüphaneyi içeri aktarıyoruz\n",
    "import cv2"
   ]
  },
  {
   "attachments": {},
   "cell_type": "markdown",
   "metadata": {},
   "source": [
    "## Görsel İçeri Aktarma "
   ]
  },
  {
   "cell_type": "code",
   "execution_count": 3,
   "metadata": {},
   "outputs": [],
   "source": [
    "# Görseli içeri aktarma \n",
    "\n",
    "img = cv2.imread(\"Images/IMG_5055.jpg\", 0) # 0 burada görselin siyah-beyaz olmasını sağlar."
   ]
  },
  {
   "cell_type": "code",
   "execution_count": 5,
   "metadata": {},
   "outputs": [],
   "source": [
    "# Görseli Gösterme \n",
    "\n",
    "cv2.imshow(\"image\", img)\n",
    "\n",
    "# Not: Bazı görselleri veya videoları kapatmak zor olabileceği için\n",
    "# Aşağıdaki komuta benzer bir yapıda çalıştırmak daha iyi olacaktır.\n",
    "\n",
    "k = cv2.waitKey(0) &0xFF\n",
    "\n",
    "if k == 27: # 27 yazmamızın sebebi \"ESC\" tuşuna karşılık gelir.\n",
    "    cv2.destroyAllWindows() # Açık olan görselleri kapatır.\n",
    "elif k == ord(\"s\"): \n",
    "    cv2.imshow(\"image\", img)\n",
    "    cv2.destroyAllWindows()\n"
   ]
  },
  {
   "cell_type": "code",
   "execution_count": 5,
   "metadata": {},
   "outputs": [
    {
     "data": {
      "text/plain": [
       "True"
      ]
     },
     "execution_count": 5,
     "metadata": {},
     "output_type": "execute_result"
    }
   ],
   "source": [
    "# Görseli Okutma \n",
    "\n",
    "cv2.imwrite(\"Images/img.png\", img)"
   ]
  },
  {
   "attachments": {},
   "cell_type": "markdown",
   "metadata": {},
   "source": [
    "------"
   ]
  },
  {
   "attachments": {},
   "cell_type": "markdown",
   "metadata": {},
   "source": [
    "## Video İçeri Aktarma \n"
   ]
  },
  {
   "cell_type": "code",
   "execution_count": 3,
   "metadata": {},
   "outputs": [],
   "source": [
    "#Video İçeri Aktarma\n",
    "\n",
    "video_name = \"Videos/MOT17-04-DPM.mp4\"\n",
    "video = cv2.VideoCapture(video_name)"
   ]
  },
  {
   "cell_type": "code",
   "execution_count": 7,
   "metadata": {},
   "outputs": [
    {
     "ename": "",
     "evalue": "",
     "output_type": "error",
     "traceback": [
      "\u001b[1;31mThe Kernel crashed while executing code in the the current cell or a previous cell. Please review the code in the cell(s) to identify a possible cause of the failure. Click <a href='https://aka.ms/vscodeJupyterKernelCrash'>here</a> for more info. View Jupyter <a href='command:jupyter.viewOutput'>log</a> for further details."
     ]
    }
   ],
   "source": [
    "# Videomuzun açılıp açılmadığını kontrol etmek için bir koşul ile döndürelim. \n",
    "if video.isOpened() == False:  \n",
    "    print(\"Error opening video file\")\n",
    "\n",
    "\n",
    "# Video tamamlanana kadar okur.\n",
    "while True: \n",
    "\n",
    "    #Videomuzdaki kareleri yakalamamızı sağlar. \n",
    "    ret, frame = video.read()\n",
    "\n",
    "    if ret == True: \n",
    "\n",
    "        # Videomuzun yer alan çerçevesini okuyoruz.\n",
    "        cv2.imshow(\"Frame\", frame)\n",
    "\n",
    "        # \"q\" tuşuna basarak kapatmamızı sağlıyor.\n",
    "        if cv2.waitKey(25) & 0xFF == ord('q'):\n",
    "            break\n",
    "    else: \n",
    "\n",
    "        break\n",
    "\n",
    "#Video çıktısını görmemize yarıyor.\n",
    "video.release()\n",
    "\n",
    "#Tüm pencereleri kapatmak için bu komutu çalıştırıyoruz. \n",
    "cv2.destroyAllWindows()"
   ]
  },
  {
   "cell_type": "code",
   "execution_count": null,
   "metadata": {},
   "outputs": [],
   "source": []
  }
 ],
 "metadata": {
  "kernelspec": {
   "display_name": "base",
   "language": "python",
   "name": "python3"
  },
  "language_info": {
   "codemirror_mode": {
    "name": "ipython",
    "version": 3
   },
   "file_extension": ".py",
   "mimetype": "text/x-python",
   "name": "python",
   "nbconvert_exporter": "python",
   "pygments_lexer": "ipython3",
   "version": "3.10.9"
  },
  "orig_nbformat": 4,
  "vscode": {
   "interpreter": {
    "hash": "b2ff4793d423b7186a78b438a13dbc32a7834b97b4d0e3daef38feeefc3d00a1"
   }
  }
 },
 "nbformat": 4,
 "nbformat_minor": 2
}
