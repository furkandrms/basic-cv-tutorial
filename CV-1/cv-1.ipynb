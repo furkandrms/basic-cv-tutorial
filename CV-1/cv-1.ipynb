{
 "cells": [
  {
   "cell_type": "code",
   "execution_count": null,
   "metadata": {},
   "outputs": [],
   "source": [
    "# Kütüphaneleri içeri aktarma\n",
    "import cv2\n",
    "import time"
   ]
  },
  {
   "attachments": {},
   "cell_type": "markdown",
   "metadata": {},
   "source": [
    "## Görsel İçeri Aktarma "
   ]
  },
  {
   "cell_type": "code",
   "execution_count": null,
   "metadata": {},
   "outputs": [],
   "source": [
    "# Görseli içeri aktarma \n",
    "\n",
    "img = cv2.imread(\"Images/IMG_5055.jpg\", 0) # 0 burada görselin siyah-beyaz olmasını sağlar."
   ]
  },
  {
   "cell_type": "code",
   "execution_count": null,
   "metadata": {},
   "outputs": [],
   "source": [
    "# Görseli Gösterme \n",
    "\n",
    "cv2.imshow(\"image\", img)\n",
    "\n",
    "# Not: Bazı görselleri veya videoları kapatmak zor olabileceği için\n",
    "# Aşağıdaki komuta benzer bir yapıda çalıştırmak daha iyi olacaktır.\n",
    "\n",
    "k = cv2.waitKey(0) &0xFF\n",
    "\n",
    "if k == 27: # 27 yazmamızın sebebi \"ESC\" tuşuna karşılık gelir.\n",
    "    cv2.destroyAllWindows() # Açık olan görselleri kapatır.\n",
    "elif k == ord(\"s\"): \n",
    "    cv2.imshow(\"image\", img)\n",
    "    cv2.destroyAllWindows()\n"
   ]
  },
  {
   "cell_type": "code",
   "execution_count": null,
   "metadata": {},
   "outputs": [],
   "source": [
    "# Görseli Okutma \n",
    "\n",
    "cv2.imwrite(\"Images/img.png\", img)"
   ]
  },
  {
   "attachments": {},
   "cell_type": "markdown",
   "metadata": {},
   "source": [
    "------"
   ]
  },
  {
   "attachments": {},
   "cell_type": "markdown",
   "metadata": {},
   "source": [
    "## Video İçeri Aktarma \n"
   ]
  },
  {
   "cell_type": "code",
   "execution_count": null,
   "metadata": {},
   "outputs": [],
   "source": [
    "#Video İçeri Aktarma\n",
    "\n",
    "video_name = \"Videos/MOT17-04-DPM.mp4\"\n",
    "video = cv2.VideoCapture(video_name)"
   ]
  },
  {
   "cell_type": "code",
   "execution_count": null,
   "metadata": {},
   "outputs": [],
   "source": [
    "# Videomuzun açılıp açılmadığını kontrol etmek için bir koşul ile döndürelim. \n",
    "if video.isOpened() == False:  \n",
    "    print(\"Error opening video file\")\n",
    "\n",
    "\n",
    "# Video tamamlanana kadar okur.\n",
    "while True: \n",
    "\n",
    "    #Videomuzdaki kareleri yakalamamızı sağlar. \n",
    "    ret, frame = video.read()\n",
    "\n",
    "    if ret == True: \n",
    "\n",
    "        # Videomuzun yer alan çerçevesini okuyoruz.\n",
    "        time.sleep(0.01)\n",
    "        cv2.imshow(\"Frame\", frame)\n",
    "\n",
    "        # \"q\" tuşuna basarak kapatmamızı sağlıyor.\n",
    "        if cv2.waitKey(25) & 0xFF == ord('q'):\n",
    "            break\n",
    "    else: \n",
    "\n",
    "        break\n",
    "\n",
    "#Video çıktısını görmemize yarıyor.\n",
    "video.release()\n",
    "\n",
    "#Tüm pencereleri kapatmak için bu komutu çalıştırıyoruz. \n",
    "cv2.destroyAllWindows()"
   ]
  },
  {
   "attachments": {},
   "cell_type": "markdown",
   "metadata": {},
   "source": [
    "## **Kamera Açma ve Video Kaydı Yapma**"
   ]
  },
  {
   "attachments": {},
   "cell_type": "markdown",
   "metadata": {},
   "source": [
    "### **Windows İşletim Sistemi İçin**"
   ]
  },
  {
   "cell_type": "code",
   "execution_count": null,
   "metadata": {},
   "outputs": [],
   "source": [
    "# Burada \"0\" kullanılmasının sebebi kendi dahili kameramıza bağlanıyoruz. \"1\" yazarsak ise harici kameramıza bağlanmış olacağız.\n",
    "cap = cv2.VideoCapture(0) \n",
    "\n",
    "#Kamera çözünürlüğünü buluyoruz.\n",
    "width = int(cap.get(cv2.CAP_PROP_FRAME_WIDTH))\n",
    "height = int(cap.get(cv2.CAP_PROP_FRAME_HEIGHT))\n",
    "print(width, height)\n",
    "\n",
    "# Video çerçevesini almak için kullanılan metodumuz.\n",
    "# cv2.VideoWriter_fourcc(*\"DIVX\") -> Video Formatı \n",
    "# \"24\" -> Kamera Kare Hızı \n",
    "# \"(width, height)\" -> kamera çözünürlüğü \n",
    "save_video = cv2.VideoWriter(\"Video_Recorder.mp4\", cv2.VideoWriter_fourcc(*\"DIVX\"),24,(width,height))\n",
    "\n",
    "# Video kaydı yapıyoruz.\n",
    "while True: \n",
    "\n",
    "    # Video çerçevesini almak için kullanılan metodumuz.\n",
    "    ret, frame = cap.read()\n",
    "\n",
    "    # Video çerçevesini başlatmak için kullanılan metodumuz.\n",
    "    cv2.imshow(\"Video\", frame)\n",
    "\n",
    "    #Kaydetme \n",
    "    save_video.write(frame)\n",
    "\n",
    "    if cv2.waitKey(1) & 0xFF == ord(\"q\"):\n",
    "        break \n",
    "\n",
    "cap.release()\n",
    "save_video.release()\n",
    "\n",
    "cv2.destroyAllWindows()"
   ]
  },
  {
   "attachments": {},
   "cell_type": "markdown",
   "metadata": {},
   "source": [
    "### **MacOS İşletim Sistemi İçin**"
   ]
  },
  {
   "cell_type": "code",
   "execution_count": null,
   "metadata": {},
   "outputs": [],
   "source": [
    "# Burada \"0\" kullanılmasının sebebi kendi dahili kameramıza bağlanıyoruz. \"1\" yazarsak ise harici kameramıza bağlanmış olacağız.\n",
    "cap = cv2.VideoCapture(0) \n",
    "\n",
    "#Kamera çözünürlüğünü buluyoruz.\n",
    "width = int(cap.get(cv2.CAP_PROP_FRAME_WIDTH))\n",
    "height = int(cap.get(cv2.CAP_PROP_FRAME_HEIGHT))\n",
    "print(width, height)\n",
    "\n",
    "# Video çerçevesini almak için kullanılan metodumuz.\n",
    "# cv2.VideoWriter_fourcc(*\"DIVX\") -> Video Formatı \n",
    "# \"24\" -> Kamera Kare Hızı \n",
    "# \"(width, height)\" -> kamera çözünürlüğü \n",
    "save_video = cv2.VideoWriter(\"Video_Recorder.mp4\", cv2.VideoWriter_fourcc(*\"avc1\"),24,(width,height))\n",
    "\n",
    "# Video kaydı yapıyoruz.\n",
    "while True: \n",
    "\n",
    "    # Video çerçevesini almak için kullanılan metodumuz.\n",
    "    ret, frame = cap.read()\n",
    "\n",
    "    # Video çerçevesini başlatmak için kullanılan metodumuz.\n",
    "    cv2.imshow(\"Video\", frame)\n",
    "\n",
    "    #Kaydetme \n",
    "    save_video.write(frame)\n",
    "\n",
    "    if cv2.waitKey(1) & 0xFF == ord(\"q\"):\n",
    "        break \n",
    "\n",
    "cap.release()\n",
    "save_video.release()\n",
    "\n",
    "cv2.destroyAllWindows()"
   ]
  },
  {
   "attachments": {},
   "cell_type": "markdown",
   "metadata": {},
   "source": [
    "## **Yeniden Boyutlandırma Ve Kırpma**"
   ]
  },
  {
   "attachments": {},
   "cell_type": "markdown",
   "metadata": {},
   "source": [
    "### **Yeniden Boyutlandırma** "
   ]
  },
  {
   "cell_type": "code",
   "execution_count": null,
   "metadata": {},
   "outputs": [],
   "source": [
    "img = cv2.imread(\"Images/IMG_5055.jpg\")\n",
    "print(\"Orginal \", img.shape)\n",
    "cv2.imshow(\"Orginal\", img)\n",
    "\n",
    "imgResized = cv2.resize(img, (300,300))\n",
    "print(\"Resized\", imgResized.shape)\n",
    "cv2.imshow(\"Resized\",imgResized)\n"
   ]
  },
  {
   "attachments": {},
   "cell_type": "markdown",
   "metadata": {},
   "source": [
    "### **Kırpma İşlemi**"
   ]
  },
  {
   "cell_type": "code",
   "execution_count": null,
   "metadata": {},
   "outputs": [],
   "source": [
    "imgCropped = img[:400,:300]\n",
    "cv2.imshow(\"Cropped\", imgCropped)"
   ]
  }
 ],
 "metadata": {
  "kernelspec": {
   "display_name": "Python 3",
   "language": "python",
   "name": "python3"
  },
  "language_info": {
   "codemirror_mode": {
    "name": "ipython",
    "version": 3
   },
   "file_extension": ".py",
   "mimetype": "text/x-python",
   "name": "python",
   "nbconvert_exporter": "python",
   "pygments_lexer": "ipython3",
   "version": "3.11.1 (v3.11.1:a7a450f84a, Dec  6 2022, 15:24:06) [Clang 13.0.0 (clang-1300.0.29.30)]"
  },
  "orig_nbformat": 4,
  "vscode": {
   "interpreter": {
    "hash": "aee8b7b246df8f9039afb4144a1f6fd8d2ca17a180786b69acc140d282b71a49"
   }
  }
 },
 "nbformat": 4,
 "nbformat_minor": 2
}
