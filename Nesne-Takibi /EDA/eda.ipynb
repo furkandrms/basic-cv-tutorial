{
 "cells": [
  {
   "cell_type": "code",
   "execution_count": 44,
   "metadata": {},
   "outputs": [],
   "source": [
    "import cv2\n",
    "import pandas as pd \n",
    "import numpy as np \n",
    "import time \n",
    "\n",
    "import matplotlib.pyplot as plt \n",
    "import seaborn as sns "
   ]
  },
  {
   "cell_type": "code",
   "execution_count": 45,
   "metadata": {},
   "outputs": [
    {
     "data": {
      "text/html": [
       "<div>\n",
       "<style scoped>\n",
       "    .dataframe tbody tr th:only-of-type {\n",
       "        vertical-align: middle;\n",
       "    }\n",
       "\n",
       "    .dataframe tbody tr th {\n",
       "        vertical-align: top;\n",
       "    }\n",
       "\n",
       "    .dataframe thead th {\n",
       "        text-align: right;\n",
       "    }\n",
       "</style>\n",
       "<table border=\"1\" class=\"dataframe\">\n",
       "  <thead>\n",
       "    <tr style=\"text-align: right;\">\n",
       "      <th></th>\n",
       "      <th>frame_number</th>\n",
       "      <th>identity_number</th>\n",
       "      <th>left</th>\n",
       "      <th>top</th>\n",
       "      <th>width</th>\n",
       "      <th>height</th>\n",
       "      <th>score</th>\n",
       "      <th>class</th>\n",
       "      <th>visibility</th>\n",
       "    </tr>\n",
       "  </thead>\n",
       "  <tbody>\n",
       "    <tr>\n",
       "      <th>0</th>\n",
       "      <td>1</td>\n",
       "      <td>1</td>\n",
       "      <td>1376</td>\n",
       "      <td>485</td>\n",
       "      <td>37</td>\n",
       "      <td>28</td>\n",
       "      <td>0</td>\n",
       "      <td>11</td>\n",
       "      <td>1.0</td>\n",
       "    </tr>\n",
       "    <tr>\n",
       "      <th>1</th>\n",
       "      <td>2</td>\n",
       "      <td>1</td>\n",
       "      <td>1379</td>\n",
       "      <td>486</td>\n",
       "      <td>37</td>\n",
       "      <td>28</td>\n",
       "      <td>0</td>\n",
       "      <td>11</td>\n",
       "      <td>1.0</td>\n",
       "    </tr>\n",
       "    <tr>\n",
       "      <th>2</th>\n",
       "      <td>3</td>\n",
       "      <td>1</td>\n",
       "      <td>1382</td>\n",
       "      <td>487</td>\n",
       "      <td>38</td>\n",
       "      <td>29</td>\n",
       "      <td>0</td>\n",
       "      <td>11</td>\n",
       "      <td>1.0</td>\n",
       "    </tr>\n",
       "    <tr>\n",
       "      <th>3</th>\n",
       "      <td>4</td>\n",
       "      <td>1</td>\n",
       "      <td>1386</td>\n",
       "      <td>488</td>\n",
       "      <td>38</td>\n",
       "      <td>29</td>\n",
       "      <td>0</td>\n",
       "      <td>11</td>\n",
       "      <td>1.0</td>\n",
       "    </tr>\n",
       "    <tr>\n",
       "      <th>4</th>\n",
       "      <td>5</td>\n",
       "      <td>1</td>\n",
       "      <td>1389</td>\n",
       "      <td>490</td>\n",
       "      <td>38</td>\n",
       "      <td>29</td>\n",
       "      <td>0</td>\n",
       "      <td>11</td>\n",
       "      <td>1.0</td>\n",
       "    </tr>\n",
       "  </tbody>\n",
       "</table>\n",
       "</div>"
      ],
      "text/plain": [
       "   frame_number  identity_number  left  top  width  height  score  class  \\\n",
       "0             1                1  1376  485     37      28      0     11   \n",
       "1             2                1  1379  486     37      28      0     11   \n",
       "2             3                1  1382  487     38      29      0     11   \n",
       "3             4                1  1386  488     38      29      0     11   \n",
       "4             5                1  1389  490     38      29      0     11   \n",
       "\n",
       "   visibility  \n",
       "0         1.0  \n",
       "1         1.0  \n",
       "2         1.0  \n",
       "3         1.0  \n",
       "4         1.0  "
      ]
     },
     "execution_count": 45,
     "metadata": {},
     "output_type": "execute_result"
    }
   ],
   "source": [
    "col_list = [\"frame_number\", \"identity_number\", \"left\", \"top\", \"width\", \"height\", \"score\", \"class\", \"visibility\"]\n",
    "df = pd.read_csv(\"gt.txt\", names=col_list)\n",
    "df.head()"
   ]
  },
  {
   "cell_type": "code",
   "execution_count": 46,
   "metadata": {},
   "outputs": [
    {
     "data": {
      "text/plain": [
       "<AxesSubplot: ylabel='count'>"
      ]
     },
     "execution_count": 46,
     "metadata": {},
     "output_type": "execute_result"
    },
    {
     "data": {
      "image/png": "[encoded data removed]",
      "text/plain": [
       "<Figure size 640x480 with 1 Axes>"
      ]
     },
     "metadata": {},
     "output_type": "display_data"
    }
   ],
   "source": [
    "plt.figure()\n",
    "sns.countplot(df[\"class\"])\n"
   ]
  },
  {
   "cell_type": "code",
   "execution_count": 47,
   "metadata": {},
   "outputs": [],
   "source": [
    "car = df[df[\"class\"] == 3]\n"
   ]
  },
  {
   "cell_type": "code",
   "execution_count": 48,
   "metadata": {},
   "outputs": [
    {
     "name": "stderr",
     "output_type": "stream",
     "text": [
      "OpenCV: Couldn't read video stream from file \"/Users/furkandurmus/Desktop/Computer Vision/Nesne-Takibi /MOT17-13-SDP.mp4\"\n"
     ]
    }
   ],
   "source": [
    "videoPath = \"/Users/furkandurmus/Desktop/Computer Vision/Nesne-Takibi /MOT17-13-SDP.mp4\"\n",
    "cap = cv2.VideoCapture(videoPath)\n",
    "\n",
    "\n",
    "id1 = 29\n",
    "fps = 25\n",
    "numberofImage = np.max(df[\"frame_number\"])\n",
    "bound_box_list = []\n",
    "\n",
    "for i in range(numberofImage - 1): \n",
    "\n",
    "    ret, frame = cap.read()\n",
    "\n",
    "    if ret: \n",
    "\n",
    "        frame = cv2.resize(frame, dsize=(960, 540))\n",
    "\n",
    "        filter_id1 = np.logical_and(car[\"frame_number\"] == i+1, car[\"identity_number\"] == id1)\n",
    "        \n",
    "        if len(car(filter_id1) != 0): \n",
    "\n",
    "            x = int(car[filter_id1].left.values[0]/2)\n",
    "            y = int(car[filter_id1].top.values[0]/2)\n",
    "            w = int(car[filter_id1].width.values[0]/2)\n",
    "            h = int(car[filter_id1].height.values[0]/2)\n",
    "\n",
    "            cv2.rectangle(frame, (x,y), (x+w, y+h), (0,255,255), 2) \n",
    "            cv2.circle(frame, int(x+w/2), int(y+h/2), 2, (0,255,255), -1)\n",
    "\n",
    "            bound_box_list.append([i, x,y,w,h, int(x+w/2), int(y+h/2)])\n",
    "        cv2.putText(frame, \"Frame num:\"+str(i+1), (10,30), cv2.FONT_HERSHEY_SCRIPT_SIMPLEX,1,(0,0,255),2)\n",
    "        cv2.imshow(\"frame\", frame)\n",
    "\n",
    "        if cv2.waitKey(1) & 0xFF == ord(\"q\"): \n",
    "            break\n",
    "\n",
    "    else: \n",
    "        break\n",
    "\n",
    "cap.release()\n",
    "cv2.destroyAllWindows()\n",
    "\n",
    "df = pd.DataFrame(bound_box_list, columns = [\"frame_no\", \"x\", \"y\", \"w\", \"h\", \"center_x\", \"center_y\"])\n",
    "df.to_csv(\"gt_new.txt\",index=False)\n"
   ]
  },
  {
   "cell_type": "code",
   "execution_count": null,
   "metadata": {},
   "outputs": [],
   "source": []
  }
 ],
 "metadata": {
  "kernelspec": {
   "display_name": "Python 3",
   "language": "python",
   "name": "python3"
  },
  "language_info": {
   "codemirror_mode": {
    "name": "ipython",
    "version": 3
   },
   "file_extension": ".py",
   "mimetype": "text/x-python",
   "name": "python",
   "nbconvert_exporter": "python",
   "pygments_lexer": "ipython3",
   "version": "3.11.1"
  },
  "orig_nbformat": 4,
  "vscode": {
   "interpreter": {
    "hash": "aee8b7b246df8f9039afb4144a1f6fd8d2ca17a180786b69acc140d282b71a49"
   }
  }
 },
 "nbformat": 4,
 "nbformat_minor": 2
}
