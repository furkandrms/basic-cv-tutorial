{
 "cells": [
  {
   "cell_type": "code",
   "execution_count": null,
   "metadata": {},
   "outputs": [],
   "source": [
    "import cv2\n",
    "import pandas as pd \n",
    "import numpy as np \n",
    "import time \n",
    "\n",
    "import matplotlib.pyplot as plt \n",
    "import seaborn as sns "
   ]
  },
  {
   "cell_type": "code",
   "execution_count": null,
   "metadata": {},
   "outputs": [],
   "source": [
    "col_list = [\"frame_number\", \"identity_number\", \"left\", \"top\", \"width\", \"height\", \"score\", \"class\", \"visibility\"]\n",
    "df = pd.read_csv(\"gt.txt\", names=col_list)\n",
    "df.head()"
   ]
  },
  {
   "cell_type": "code",
   "execution_count": null,
   "metadata": {},
   "outputs": [],
   "source": [
    "plt.figure()\n",
    "sns.countplot(df[\"class\"])\n"
   ]
  },
  {
   "cell_type": "code",
   "execution_count": null,
   "metadata": {},
   "outputs": [],
   "source": [
    "car = df[df[\"class\"] == 3]\n"
   ]
  },
  {
   "cell_type": "code",
   "execution_count": null,
   "metadata": {},
   "outputs": [],
   "source": [
    "videoPath = \"MOT17-13-SDP.mp4\"\n",
    "cap = cv2.VideoCapture(videoPath)\n",
    "\n",
    "\n",
    "id1 = 29\n",
    "fps = 25\n",
    "numberofImage = np.max(df[\"frame_number\"])\n",
    "bound_box_list = []\n",
    "\n",
    "for i in range(numberofImage - 1): \n",
    "\n",
    "    ret, frame = cap.read()\n",
    "\n",
    "    if ret: \n",
    "\n",
    "        frame = cv2.resize(frame, dsize=(960, 540))\n",
    "\n",
    "        filter_id1 = np.logical_and(car[\"frame_number\"] == i+1, car[\"identity_number\"] == id1)\n",
    "        \n",
    "        if len(car[filter_id1]) != 0: \n",
    "\n",
    "            x = int(car[filter_id1].left.values[0]/2)\n",
    "            y = int(car[filter_id1].top.values[0]/2)\n",
    "            w = int(car[filter_id1].width.values[0]/2)\n",
    "            h = int(car[filter_id1].height.values[0]/2)\n",
    "\n",
    "            cv2.rectangle(frame, (x,y), (x+w, y+h), (0,255,255), 2) \n",
    "            cv2.circle(frame, (int(x+w/2), int(y+h/2)), 2, (0,255,255), -1)\n",
    "\n",
    "            bound_box_list.append([i, x,y,w,h, int(x+w/2), int(y+h/2)])\n",
    "        cv2.putText(frame, \"Frame num:\"+str(i+1), (10,30), cv2.FONT_HERSHEY_COMPLEX_SMALL,1,(0,0,255),2)\n",
    "        cv2.imshow(\"frame\", frame)\n",
    "\n",
    "        if cv2.waitKey(1) & 0xFF == ord(\"q\"): \n",
    "            break\n",
    "\n",
    "    else: \n",
    "        break\n",
    "\n",
    "cap.release()\n",
    "cv2.destroyAllWindows()\n",
    "\n",
    "df = pd.DataFrame(bound_box_list, columns = [\"frame_no\", \"x\", \"y\", \"w\", \"h\", \"center_x\", \"center_y\"])\n",
    "df.to_csv(\"gt_new.txt\",index=False)\n"
   ]
  },
  {
   "cell_type": "code",
   "execution_count": null,
   "metadata": {},
   "outputs": [],
   "source": []
  }
 ],
 "metadata": {
  "kernelspec": {
   "display_name": "Python 3",
   "language": "python",
   "name": "python3"
  },
  "language_info": {
   "codemirror_mode": {
    "name": "ipython",
    "version": 3
   },
   "file_extension": ".py",
   "mimetype": "text/x-python",
   "name": "python",
   "nbconvert_exporter": "python",
   "pygments_lexer": "ipython3",
   "version": "3.11.1 (v3.11.1:a7a450f84a, Dec  6 2022, 15:24:06) [Clang 13.0.0 (clang-1300.0.29.30)]"
  },
  "orig_nbformat": 4,
  "vscode": {
   "interpreter": {
    "hash": "aee8b7b246df8f9039afb4144a1f6fd8d2ca17a180786b69acc140d282b71a49"
   }
  }
 },
 "nbformat": 4,
 "nbformat_minor": 2
}
