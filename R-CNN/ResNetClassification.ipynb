{
 "cells": [
  {
   "attachments": {},
   "cell_type": "markdown",
   "metadata": {},
   "source": [
    "## **Pyramid Representation**"
   ]
  },
  {
   "cell_type": "code",
   "execution_count": null,
   "metadata": {},
   "outputs": [],
   "source": [
    "import cv2\n",
    "import matplotlib.pyplot as plt\n",
    "import numpy as np\n",
    "\n",
    "import random "
   ]
  },
  {
   "cell_type": "code",
   "execution_count": null,
   "metadata": {},
   "outputs": [],
   "source": [
    "def PyramidRepresentation(image, scale = 1.5, minSize = (224,224)): \n",
    "\n",
    "    yield image \n",
    "\n",
    "    while True: \n",
    "\n",
    "        w = int(image.shape[1]/scale)\n",
    "        image = cv2.resize(image, dsize=(w,w))\n",
    "\n",
    "        if image.shape[0] < minSize[1] or image.shape[1] < minSize[0]: \n",
    "            break \n",
    "\n",
    "        yield image"
   ]
  },
  {
   "cell_type": "code",
   "execution_count": null,
   "metadata": {},
   "outputs": [],
   "source": [
    "img = cv2.imread(\"/Users/furkandurmus/Desktop/Computer Vision/Images/husky.jpg\")\n",
    "im = PyramidRepresentation(img, 1.5, (10,10))\n",
    "for i, image in enumerate(im): \n",
    "    print(i)\n",
    "\n",
    "    if i == 5: \n",
    "        plt.imshow(image), plt.axis(\"off\")"
   ]
  },
  {
   "attachments": {},
   "cell_type": "markdown",
   "metadata": {},
   "source": [
    "## **Sliding Window**"
   ]
  },
  {
   "cell_type": "code",
   "execution_count": null,
   "metadata": {},
   "outputs": [],
   "source": [
    "def SlidingWindow(image, step, ws): \n",
    "    \n",
    "    for y in range(0, image.shape[0] - ws[0], step): \n",
    "        for x in range(0, image.shape[1] - ws[1], step): \n",
    "\n",
    "            yield(x, y, image[y: y +ws[1], x: x+ws[0]])"
   ]
  },
  {
   "cell_type": "code",
   "execution_count": null,
   "metadata": {},
   "outputs": [],
   "source": [
    "img = cv2.imread(\"/Users/furkandurmus/Desktop/Computer Vision/Images/husky.jpg\")\n",
    "im = SlidingWindow(img, 50, (200,150))\n",
    "\n",
    "for i, image in enumerate(im): \n",
    "    print(i)\n",
    "\n",
    "    if i == 100: \n",
    "        print(image[0], image[1])\n",
    "        plt.imshow(image[2])"
   ]
  },
  {
   "attachments": {},
   "cell_type": "markdown",
   "metadata": {},
   "source": [
    "## **Non Max Supression**"
   ]
  },
  {
   "cell_type": "code",
   "execution_count": null,
   "metadata": {},
   "outputs": [],
   "source": [
    "def NonMaxSupression(boxes, probs = None, overlapThresh=0.3): \n",
    "\n",
    "    if len(boxes) == 0: \n",
    "        return []\n",
    "    \n",
    "    if boxes.dtype.kind == \"i\": \n",
    "        boxes = boxes.astype(\"float\")\n",
    "\n",
    "    x1 = boxes[:,0]\n",
    "    y1 = boxes[:,1]\n",
    "    x2 = boxes[:,2]\n",
    "    y2 = boxes[:,3]\n",
    "\n",
    "    # Find Field\n",
    "    field = (x2 - x1 + 1)*(y2 - y1 + 1)   \n",
    "\n",
    "    idxs = y2\n",
    "\n",
    "    # Probability Values\n",
    "    idxs = np.argsort(idxs)\n",
    "    \n",
    "    pick = [] #Select Boxes\n",
    "\n",
    "    while len(idxs) > 0: \n",
    "\n",
    "        last = len(idxs) - 1\n",
    "        i = idxs[last]\n",
    "        pick.append(i)\n",
    "\n",
    "        # Min and Max Values \n",
    "        xx1 = np.maximum(x1[i], x1[idxs[:last]])\n",
    "        yy1 = np.maximum(y1[i], y1[idxs[:last]])\n",
    "        xx2 = np.minimum(x2[i], x2[idxs[:last]])\n",
    "        yy2 = np.minimum(y2[i], y2[idxs[:last]])\n",
    "\n",
    "        # Find Width and Height\n",
    "        w = np.maximum(0, xx2 - xx1 + 1)\n",
    "        h = np.maximum(0, yy2 - yy1 + 1)\n",
    "\n",
    "        # Overlap \n",
    "        overlap = (w * h) / field[idxs[:last]]\n",
    "\n",
    "        idxs = np.delete(idxs, np.concatenate(([last], np.where(overlap > overlapThresh)[0])))\n",
    "        \n",
    "    return boxes[pick].astype(\"int\")\n",
    "\n"
   ]
  },
  {
   "attachments": {},
   "cell_type": "markdown",
   "metadata": {},
   "source": [
    "## **Selective Search**"
   ]
  },
  {
   "cell_type": "code",
   "execution_count": null,
   "metadata": {},
   "outputs": [],
   "source": [
    "image = cv2.imread(\"/Users/furkandurmus/Desktop/Computer Vision/Images/pyramid.jpg\")\n",
    "image = cv2.resize(image, dsize = (600,600))\n",
    "cv2.imshow(\"Image\", image)"
   ]
  },
  {
   "cell_type": "code",
   "execution_count": null,
   "metadata": {},
   "outputs": [],
   "source": [
    "ss = cv2.ximgproc.segmentation.createSelectiveSearchSegmentation()\n",
    "ss.setBaseImage(image)\n",
    "ss.switchToSelectiveSearchQuality()\n",
    "\n",
    "print(\"-> start\")\n",
    "\n",
    "rects = ss.process()\n",
    "\n",
    "output = image.copy()\n",
    "\n",
    "for (x,y,w,h) in rects[:50]: \n",
    "    color = [random.randint(0,255) for j in range(0,3)]\n",
    "    cv2.rectangle(output, (x,y), (x+w, y+h), color, 2)\n",
    "\n",
    "cv2.imshow(\"Output\",output)\n",
    "#cv2.waitKey(0)\n",
    "#cv2.destroyAllWindows()\n"
   ]
  },
  {
   "attachments": {},
   "cell_type": "markdown",
   "metadata": {},
   "source": [
    "## **Region Proposal Object Detection**"
   ]
  },
  {
   "cell_type": "code",
   "execution_count": null,
   "metadata": {},
   "outputs": [],
   "source": [
    "from tensorflow.keras.applications.resnet50 import preprocess_input \n",
    "from tensorflow.keras.applications import ResNet50\n",
    "from tensorflow.keras.preprocessing.image import img_to_array\n",
    "from keras.applications import imagenet_utils\n",
    "\n",
    "from nms import NonMaxSupression\n"
   ]
  },
  {
   "cell_type": "code",
   "execution_count": null,
   "metadata": {},
   "outputs": [],
   "source": [
    "def SelectiveSearch(image): \n",
    "    print(\"ss\")\n",
    "\n",
    "    ss = cv2.ximgproc.segmentation.createSelectiveSearchSegmentation()\n",
    "    ss.setBaseImage(image)\n",
    "\n",
    "    ss.switchToSelectiveSearchQuality()\n",
    "\n",
    "    rects = ss.process()\n",
    "\n",
    "    return rects[:1000]\n"
   ]
  },
  {
   "cell_type": "code",
   "execution_count": null,
   "metadata": {},
   "outputs": [],
   "source": [
    "import ssl\n",
    "ssl._create_default_https_context = ssl._create_unverified_context"
   ]
  },
  {
   "cell_type": "code",
   "execution_count": null,
   "metadata": {},
   "outputs": [],
   "source": [
    "# Model \n",
    "\n",
    "model = ResNet50(weights=\"imagenet\")\n",
    "image = cv2.imread(\"/Users/furkandurmus/Desktop/Computer Vision/Images/animals.jpg\")\n",
    "image = cv2.resize(image, dsize = (400,400))\n",
    "\n",
    "(H,W) = image.shape[:2]\n",
    "\n",
    "# Selective Search\n",
    "\n",
    "rects = SelectiveSearch(image)\n",
    "\n",
    "proposals = []\n",
    "boxes = []\n",
    "\n",
    "for (x,y,w,h) in rects: \n",
    "\n",
    "    if w / float(W) < 0.1 or h / float(H) < 0.1: \n",
    "        continue\n",
    "\n",
    "    roi = image[y:y + h, x:x + w]\n",
    "    roi = cv2.cvtColor(roi, cv2.COLOR_BGR2RGB)\n",
    "    roi = cv2.resize(roi, (224, 224))\n",
    "\n",
    "    roi = img_to_array(roi)\n",
    "    roi = preprocess_input(roi)\n",
    "\n",
    "    proposals.append(roi)\n",
    "    boxes.append((x, y, w, h))\n",
    "\n",
    "proposals = np.array(proposals)"
   ]
  },
  {
   "cell_type": "code",
   "execution_count": 31,
   "metadata": {},
   "outputs": [],
   "source": [
    "# Predict \n",
    "\n",
    "print(\"Predict\")\n",
    "\n",
    "preds = model.predict(proposals)\n",
    "preds = imagenet_utils.decode_predictions(preds, top=1)\n",
    "\n",
    "labels = {}\n",
    "min_conf = 0.8\n",
    "\n",
    "for (i,p) in enumerate(preds): \n",
    "\n",
    "    (_, label, prob) = p[0]\n",
    "\n",
    "    if prob > min_conf and i < len(boxes):\n",
    "        (x, y, w, h) = boxes[i]\n",
    "        box = (x, y, x + w, y + h)\n",
    "        L = labels.get(label, [])\n",
    "        L.append((box, prob))\n",
    "        labels[label] = L\n",
    "\n",
    "clone = image.copy()\n",
    "\n",
    "for label in labels.keys(): \n",
    "\n",
    "    for (box, prob) in labels[label]: \n",
    "\n",
    "        boxes = np.array([p[0] for p in labels[label]])\n",
    "        proba = np.array([p[1] for p in labels[label]])\n",
    "        boxes = NonMaxSupression(boxes, proba)\n",
    "\n",
    "    for (startX, startY, endX, endY) in boxes:\n",
    "            cv2.rectangle(clone, (startX, startY), (endX, endY),(0, 0, 255), 2)\n",
    "            y = startY - 10 if startY - 10 > 10 else startY + 10\n",
    "            cv2.putText(clone, label, (startX, y),cv2.FONT_HERSHEY_SIMPLEX, 0.6, (0, 255, 0), 2)\n",
    "            \n",
    "    cv2.imshow(\"After\", clone)\n",
    "    if cv2.waitKey(0) & 0xFF == ord('q'):\n",
    "        break\n",
    "\n",
    "\n"
   ]
  },
  {
   "cell_type": "code",
   "execution_count": null,
   "metadata": {},
   "outputs": [],
   "source": []
  }
 ],
 "metadata": {
  "kernelspec": {
   "display_name": "Python 3",
   "language": "python",
   "name": "python3"
  },
  "language_info": {
   "codemirror_mode": {
    "name": "ipython",
    "version": 3
   },
   "file_extension": ".py",
   "mimetype": "text/x-python",
   "name": "python",
   "nbconvert_exporter": "python",
   "pygments_lexer": "ipython3",
   "version": "3.11.1"
  },
  "orig_nbformat": 4,
  "vscode": {
   "interpreter": {
    "hash": "aee8b7b246df8f9039afb4144a1f6fd8d2ca17a180786b69acc140d282b71a49"
   }
  }
 },
 "nbformat": 4,
 "nbformat_minor": 2
}
