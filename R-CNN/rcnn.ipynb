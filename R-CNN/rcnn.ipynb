{
 "cells": [
  {
   "cell_type": "code",
   "execution_count": null,
   "metadata": {},
   "outputs": [],
   "source": [
    "import cv2\n",
    "import pickle\n",
    "import numpy as np\n",
    "import random\n",
    "from tqdm import tqdm\n",
    "from tensorflow.keras.preprocessing.image import img_to_array"
   ]
  },
  {
   "cell_type": "code",
   "execution_count": null,
   "metadata": {},
   "outputs": [],
   "source": [
    "image = cv2.imread(\"/Users/furkandurmus/Desktop/Computer Vision/Images/mnist.png\")\n",
    "cv2.imshow(\"Image\", image)"
   ]
  },
  {
   "cell_type": "code",
   "execution_count": null,
   "metadata": {},
   "outputs": [],
   "source": [
    "#Selective Search \n",
    "\n",
    "ss = cv2.ximgproc.segmentation.createSelectiveSearchSegmentation()\n",
    "ss.setBaseImage(image)\n",
    "ss.switchToSelectiveSearchQuality()\n",
    "\n",
    "print(\"-> Start Selective Search\")\n",
    "\n",
    "rects = ss.process()\n",
    "\n",
    "proposals = []\n",
    "boxes = []\n",
    "output = image.copy()\n",
    "\n",
    "for (x,y,w,h) in tqdm(rects[:100]): \n",
    "\n",
    "    color = [random.randint(0,255) for j in range(0,3)]\n",
    "    cv2.rectangle(output, (x, y), (x + w, y + h), color, 2)\n",
    "\n",
    "    roi = image[y: y + h, x: x + w]\n",
    "    roi = cv2.resize(roi, dsize=(32,32), interpolation= cv2.INTER_LANCZOS4)\n",
    "    roi = cv2.cvtColor(roi, cv2.COLOR_BGR2GRAY)\n",
    "\n",
    "    roi = img_to_array(roi)\n",
    "\n",
    "    proposals.append(roi)\n",
    "    boxes.append((x, y, w + x, h + y))\n",
    "\n",
    "proposals = np.array(proposals, dtype=\"float64\")\n",
    "boxes = np.array(boxes, dtype=\"int32\")\n",
    "\n"
   ]
  },
  {
   "cell_type": "code",
   "execution_count": null,
   "metadata": {},
   "outputs": [],
   "source": [
    "print(\"-> Start Classification\")\n",
    "\n",
    "pickle_in = open(\"/Users/furkandurmus/Desktop/Computer Vision/R-CNN/model_trained_v4.p\", \"rb\")\n",
    "model = pickle.load(pickle_in)\n",
    "\n",
    "number_list = []\n",
    "idx = []\n",
    "\n",
    "for i in tqdm(range(len(proba))): \n",
    "\n",
    "    max_prob = np.max(proba[i, :])\n",
    "    if max_prob > 0.95: \n",
    "        idx.append(i)\n",
    "        number_list.append(np.argmax(proba[i]))\n",
    "\n",
    "for i in tqdm(range(len(number_list))):\n",
    "    \n",
    "    j = idx[i]\n",
    "    cv2.rectangle(image, (boxes[j, 0], boxes[j, 1]), (boxes[j, 2], boxes[j, 3]), [0, 0, 255], 2)\n",
    "    cv2.putText(image, str(np.argmax(proba[j])), (boxes[j, 0] + 5, boxes[j, 1] + 5), cv2.FONT_HERSHEY_COMPLEX, 1.5, (0, 255, 0))\n",
    "\n",
    "cv2.imshow(\"Image\", image)\n"
   ]
  }
 ],
 "metadata": {
  "kernelspec": {
   "display_name": "base",
   "language": "python",
   "name": "python3"
  },
  "language_info": {
   "codemirror_mode": {
    "name": "ipython",
    "version": 3
   },
   "file_extension": ".py",
   "mimetype": "text/x-python",
   "name": "python",
   "nbconvert_exporter": "python",
   "pygments_lexer": "ipython3",
   "version": "3.10.11"
  },
  "orig_nbformat": 4,
  "vscode": {
   "interpreter": {
    "hash": "b2ff4793d423b7186a78b438a13dbc32a7834b97b4d0e3daef38feeefc3d00a1"
   }
  }
 },
 "nbformat": 4,
 "nbformat_minor": 2
}
