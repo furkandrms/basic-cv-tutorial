{
 "cells": [
  {
   "cell_type": "code",
   "execution_count": null,
   "metadata": {},
   "outputs": [],
   "source": [
    "import cv2\n",
    "import matplotlib.pyplot as plt\n",
    "import numpy as np "
   ]
  },
  {
   "attachments": {},
   "cell_type": "markdown",
   "metadata": {},
   "source": [
    "### **Görüntü Oluşturma Ve Şekil Çizdirme**"
   ]
  },
  {
   "cell_type": "code",
   "execution_count": null,
   "metadata": {},
   "outputs": [],
   "source": [
    "img = np.zeros((512,512,3), np.uint8) #Görüntü oluşturma \n",
    "\n",
    "cv2.imshow(\"Image\", img)\n",
    "\n",
    "cv2.line(img, (0,0), (256,256), (0,255,0), 3) #Çizgi oluşturma\n",
    "cv2.imshow(\"Line\", img)\n",
    " \n",
    "\n",
    "cv2.rectangle(img, (0,0), (256,256),(0,0,255), cv2.FILLED) #Dörtgen oluşturma\n",
    "cv2.imshow(\"Rectangle\", img)\n",
    "\n",
    "\n",
    "cv2.circle(img, (300,300), 45, (255,0,0), cv2.FILLED) #Daire oluşturma\n",
    "cv2.imshow(\"Circle\", img)\n",
    "\n",
    "\n",
    "cv2.putText(img, \"Put Text\", (350,350), cv2.FONT_HERSHEY_COMPLEX, 1, (255,255,255)) #Metin oluşturma\n",
    "cv2.imshow(\"Put Text\", img)\n",
    "cv2.waitKey(0)\n",
    "cv2.destroyAllWindows()\n"
   ]
  },
  {
   "attachments": {},
   "cell_type": "markdown",
   "metadata": {},
   "source": [
    "### **Görseli Yatay Ve Dikey Birleştirme**"
   ]
  },
  {
   "cell_type": "code",
   "execution_count": null,
   "metadata": {},
   "outputs": [],
   "source": [
    "#Görseli İçeri Aktarma\n",
    "img = cv2.imread(\"Images/IMG_5055.jpg\") \n",
    "cv2.imshow(\"image\",img)\n",
    "cv2.waitKey(0)\n",
    "cv2.destroyAllWindows()\n",
    "\n",
    "#Yatay Birleştirme \n",
    "hor = np.hstack((img, img)) \n",
    "cv2.imshow(\"hor\", hor)\n",
    "cv2.waitKey(0)\n",
    "cv2.destroyAllWindows()\n",
    "\n",
    "#Dikey Birleştirme \n",
    "ver = np.vstack((img, img))\n",
    "cv2.imshow(\"ver\", ver)\n",
    "cv2.waitKey(0)\n",
    "cv2.destroyAllWindows()"
   ]
  },
  {
   "attachments": {},
   "cell_type": "markdown",
   "metadata": {},
   "source": [
    "### **Görsel Perspektif Düzeltme**"
   ]
  },
  {
   "cell_type": "code",
   "execution_count": null,
   "metadata": {},
   "outputs": [],
   "source": [
    "img = cv2.imread(\"../Images/kart.png\")\n",
    "\n",
    "width = 400\n",
    "height = 500 \n",
    "\n",
    "# Görüntüyü döndürmek için piksel alanlarını giriyoruz \n",
    "pts1 = np.float32([[203,1],[1,472],[540,150],[338,617]]) \n",
    "pts2 = np.float32([[0,0],[0,height],[width,0],[width,height]]) \n",
    "\n",
    "# Transform methodu ile perspektif işlemi yapıyoruz \n",
    "matrix = cv2.getPerspectiveTransform(pts1,pts2)\n",
    "\n",
    "# Oluşan Görselimiz\n",
    "imgOutput = cv2.warpPerspective(img, matrix, (width,height))\n",
    "\n",
    "cv2.imshow(\"Image\", img)\n",
    "cv2.imshow(\"Warp Image\", imgOutput)\n"
   ]
  },
  {
   "attachments": {},
   "cell_type": "markdown",
   "metadata": {},
   "source": [
    "### **Görüntü Birleştirme**\n"
   ]
  },
  {
   "cell_type": "code",
   "execution_count": null,
   "metadata": {},
   "outputs": [],
   "source": [
    "img1 = cv2.imread(\"../Images/img1.JPG\")\n",
    "img1= cv2.cvtColor(img1, cv2.COLOR_BGR2RGB)\n",
    "img2 = cv2.imread(\"../Images/img2.JPG\")\n",
    "img2 = cv2.cvtColor(img2, cv2.COLOR_BGR2RGB)\n",
    "\n",
    "plt.figure()\n",
    "plt.imshow(img1)\n",
    "\n",
    "plt.figure()\n",
    "plt.imshow(img2)\n",
    "\n",
    "print(img1.shape)\n",
    "print(img2.shape)\n",
    "\n",
    "img1 = cv2.resize(img1,(600,600))\n",
    "print(img1.shape)\n",
    "\n",
    "img2 = cv2.resize(img2,(600,600))\n",
    "print(img1.shape)\n",
    "\n",
    "plt.figure()\n",
    "plt.imshow(img1)\n",
    "\n",
    "plt.figure()\n",
    "plt.imshow(img2)\n",
    "\n",
    "blended = cv2.addWeighted(src1=img1, alpha = 0.3, src2=img2,beta=0.7, gamma = 0)\n",
    "plt.figure()\n",
    "plt.imshow(blended)"
   ]
  }
 ],
 "metadata": {
  "kernelspec": {
   "display_name": "Python 3",
   "language": "python",
   "name": "python3"
  },
  "language_info": {
   "codemirror_mode": {
    "name": "ipython",
    "version": 3
   },
   "file_extension": ".py",
   "mimetype": "text/x-python",
   "name": "python",
   "nbconvert_exporter": "python",
   "pygments_lexer": "ipython3",
   "version": "3.11.1 (v3.11.1:a7a450f84a, Dec  6 2022, 15:24:06) [Clang 13.0.0 (clang-1300.0.29.30)]"
  },
  "orig_nbformat": 4,
  "vscode": {
   "interpreter": {
    "hash": "aee8b7b246df8f9039afb4144a1f6fd8d2ca17a180786b69acc140d282b71a49"
   }
  }
 },
 "nbformat": 4,
 "nbformat_minor": 2
}
